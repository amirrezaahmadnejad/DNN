{
  "nbformat": 4,
  "nbformat_minor": 0,
  "metadata": {
    "colab": {
      "name": "2.1-Deep Learning with python.ipynb",
      "provenance": [],
      "collapsed_sections": []
    },
    "kernelspec": {
      "name": "python3",
      "display_name": "Python 3"
    }
  },
  "cells": [
    {
      "cell_type": "markdown",
      "metadata": {
        "id": "-1rWI5YISED0",
        "colab_type": "text"
      },
      "source": [
        " We’ll dive into three introductory examples of\n",
        "how to use neural networks to address real problems:\n",
        "\n",
        "\n",
        "*   Classifying movie reviews as positive or negative (binary classification)\n",
        "\n",
        "\n",
        "\n",
        "*   Classifying news wires by topic (multiclass classification)\n",
        "\n",
        "\n",
        "\n",
        "\n",
        "*   Estimating the price of a house, given real-estate data (regression)\n",
        "\n"
      ]
    },
    {
      "cell_type": "markdown",
      "metadata": {
        "id": "THGBe3VKSeBj",
        "colab_type": "text"
      },
      "source": [
        "#Anatomy of a neural network\n",
        "Training a neural network revolves around the following objects:\n",
        "\n",
        "*   Layers, which are combined into a network (or model)\n",
        "*   The input data and corresponding targets\n",
        "*   The loss function, which defines the feedback signal used for learning\n",
        "*  The loss function, which defines the feedback signal used for learning\n",
        "![alt text](https://dpzbhybb2pdcj.cloudfront.net/chollet/Figures/03fig01.jpg)\n",
        "\n",
        "\n",
        "1.   Layers: the building blocks of deep learning\n",
        "\n",
        "A layer is a data-processing module that takes as input one or\n",
        "more tensors and that outputs one or more tensors. Some layers are stateless, but\n",
        "more frequently layers have a state: the layer’s weights, one or several tensors learned\n",
        "with stochastic gradient descent, which together contain the network’s knowledge.\n",
        "A layer is a data-processing module that takes as input one or\n",
        "more tensors and that outputs one or more tensors. Some layers are stateless, but\n",
        "more frequently layers have a state: the layer’s weights, one or several tensors learned\n",
        "with stochastic gradient descent, which together contain the network’s knowledge.The notion of layer compatibility here refers specifically to the fact that every layer\n",
        "will only accept input tensors of a certain shape and will return output tensors of a certain shape.\n",
        "2.   Models: networks of layers\n",
        "\n",
        "A deep-learning model is a acyclic graph of layers. The most common\n",
        "instance is a linear stack of layers, mapping a single input to a single output.\n",
        "Some common ones include the following:\n",
        "\n",
        "\n",
        "\n",
        "*   Two-branch networks\n",
        "*   Multihead networks\n",
        "*   Inception blocks\n",
        "\n",
        "The topology of a network defines a hypothesis space.we defined machine learning as “searching for useful representations of some\n",
        "input data, within a predefined space of possibilities, using guidance from a feedback\n",
        "signal.” By choosing a network topology, you constrain your space of possibilities\n",
        "(hypothesis space) to a specific series of tensor operations, mapping input data to output data. What you’ll then be searching for is a good set of values for the weight tensors involved in these tensor operations.\n",
        "\n",
        "Picking the right network **architecture** is more an art than a science; and although\n",
        "there are some best practices and principles you can rely on, only practice can help\n",
        "you become a proper neural-network architect. \n",
        "\n",
        "3. Loss functions and optimizers:\n",
        "keys to configuring the learning process\n",
        "\n",
        "Once the network architecture is defined, you still have to choose two more things:\n",
        "\n",
        "\n",
        "\n",
        "*  ***Loss function (objective function)***:The quantity that will be minimized during\n",
        "training. It represents a measure of success for the task at hand.\n",
        "*   ***Optimizer***:Determines how the network will be updated based on the loss function. It implements a specific variant of stochastic gradient descent (SGD).\n",
        "\n",
        "A neural network that has multiple outputs may have multiple loss functions (one per\n",
        "output). But the gradient-descent process must be based on a single scalar loss value;\n",
        "so, for multiloss networks, all losses are combined (via averaging) into a single scalar\n",
        "quantity.\n",
        "\n",
        "when it comes to common problems such as classification, regression,\n",
        "and sequence prediction, there are simple guidelines you can follow to choose the\n",
        "correct loss.For instance, you’ll use binary crossentropy for a two-class classification\n",
        "problem, categorical crossentropy for a many-class classification problem, meansquared error for a regression problem, connectionist temporal classification (CTC)\n",
        "for a sequence-learning problem, and so on.\n",
        "\n",
        "\n",
        "\n",
        "\n"
      ]
    },
    {
      "cell_type": "markdown",
      "metadata": {
        "id": "a5kB27JNWKF2",
        "colab_type": "text"
      },
      "source": [
        "#**1-Classifying movie reviews: a binary classification example**\n",
        "Classify movie reviews as\n",
        "positive or negative, based on the text content of the reviews.\n",
        "\n",
        " you should never test a machinelearning model on the same data that you used to train it! Just because a model performs well on its training data doesn’t mean it will perform well on data it has never\n",
        "seen; and what you care about is your model’s performance on new data."
      ]
    },
    {
      "cell_type": "code",
      "metadata": {
        "id": "TMntmtgpMzB5",
        "colab_type": "code",
        "colab": {}
      },
      "source": [
        "!pip install tensorflow==1.14.0 #Down grade tensorflow beacue now it is on 2 version\n",
        "import tensorflow as tf"
      ],
      "execution_count": 0,
      "outputs": []
    },
    {
      "cell_type": "code",
      "metadata": {
        "id": "l2MCblJNXybC",
        "colab_type": "code",
        "colab": {}
      },
      "source": [
        "from keras.datasets import imdb\n",
        "(train_data, train_labels), (test_data, test_labels) = imdb.load_data( num_words=10000)"
      ],
      "execution_count": 0,
      "outputs": []
    },
    {
      "cell_type": "markdown",
      "metadata": {
        "id": "05Ha0OopY7cZ",
        "colab_type": "text"
      },
      "source": [
        "The argument num_words=10000 means you’ll only keep the top 10,000 most frequently occurring words in the training data. Rare words will be discarded. This allows\n",
        "you to work with vector data of manageable size."
      ]
    },
    {
      "cell_type": "markdown",
      "metadata": {
        "id": "GlDqZK3eZy1J",
        "colab_type": "text"
      },
      "source": [
        "You can’t feed lists of integers into a neural network. You have to turn your lists into\n",
        "tensors.There are two ways:\n",
        "\n",
        "*   One-hot encode your lists to turn them into vectors of 0s and 1s. This would\n",
        "mean, for instance, turning the sequence [3, 5] into a 10,000-dimensional vector that would be all 0s except for indices 3 and 5, which would be 1s. Then you\n",
        "could use as the first layer in your network a Dense layer, capable of handling\n",
        "floating-point vector data.\n"
      ]
    },
    {
      "cell_type": "code",
      "metadata": {
        "id": "Cnv7oA9vb_LH",
        "colab_type": "code",
        "colab": {}
      },
      "source": [
        "import numpy as np\n",
        "def vectorize_sequences(sequences, dimension=10000):\n",
        "  results = np.zeros((len(sequences), dimension))\n",
        "  for i, sequence in enumerate(sequences):\n",
        "    results[i, sequence] = 1.\n",
        "  return results\n",
        "x_train = vectorize_sequences(train_data)\n",
        "x_test = vectorize_sequences(test_data)\n",
        "y_train = np.asarray(train_labels).astype('float32')\n",
        "y_test = np.asarray(test_labels).astype('float32')\n"
      ],
      "execution_count": 0,
      "outputs": []
    },
    {
      "cell_type": "markdown",
      "metadata": {
        "id": "sO0MZrnJmjrG",
        "colab_type": "text"
      },
      "source": [
        "The input data is vectors, and the labels are scalars (1s and 0s): this is the easiest setup\n",
        "you’ll ever encounter. A type of network that performs well on such a problem is\n",
        "a simple stack of fully connected (Dense) layers with relu activations: Dense(16,\n",
        "activation='relu')\n",
        "\n",
        "Having 16 hidden units means the weight matrix W will have shape (input_dimension,\n",
        "16): the dot product with W will project the input data onto a 16-dimensional representation space (and then you’ll add the bias vector b and apply the relu operation). Having more hidden units (a higher-dimensional representation space)\n",
        "allows your network to learn more-complex representations, but it makes the network\n",
        "more computationally expensive and may lead to learning unwanted patterns (patterns that will improve performance on the training data but not on the test data)\n",
        "\n",
        "Two intermediate layers with 16 hidden units each\n",
        "\n",
        "A third layer that will output the scalar prediction regarding the sentiment of\n",
        "the current review.\n",
        "\n",
        "The intermediate layers will use relu as their activation function, and the final layer\n",
        "will use a sigmoid activation so as to output a probability (a score between 0 and 1)\n",
        "\n"
      ]
    },
    {
      "cell_type": "code",
      "metadata": {
        "id": "HOjsDZjMmORV",
        "colab_type": "code",
        "colab": {}
      },
      "source": [
        "from keras import models\n",
        "from keras import layers\n",
        "model = models.Sequential()\n",
        "model.add(layers.Dense(16, activation='relu', input_shape=(10000,)))\n",
        "model.add(layers.Dense(16, activation='relu'))\n",
        "model.add(layers.Dense(1, activation='sigmoid'))"
      ],
      "execution_count": 0,
      "outputs": []
    },
    {
      "cell_type": "markdown",
      "metadata": {
        "id": "6xNtrlqwoEzV",
        "colab_type": "text"
      },
      "source": [
        "**Activation Functions**\n",
        "Without an activation function like relu , the Dense layer\n",
        "would consist of two linear operations—a dot product and an addition:\n",
        "\n",
        "output = dot(W, input) + b\n",
        "\n",
        "In order to get access to a much richer hypothesis space that would benefit from\n",
        "deep representations, you need a non-linearity, or activation function."
      ]
    },
    {
      "cell_type": "markdown",
      "metadata": {
        "id": "QLYlqqDXom9M",
        "colab_type": "text"
      },
      "source": [
        "A loss function and an optimizer:you’re facing a\n",
        "binary classification problem and the output of your network is a probability (you end\n",
        "your network with a single-unit layer with a sigmoid activation), it’s best to use the binary_crossentropy loss.\n",
        "\n",
        "Crossentropy is measuring the distance between the ground-truth distribution and your predictions."
      ]
    },
    {
      "cell_type": "code",
      "metadata": {
        "id": "CboCBfFzn-w1",
        "colab_type": "code",
        "colab": {
          "base_uri": "https://localhost:8080/",
          "height": 34
        },
        "outputId": "fa92fc64-fe4b-4f28-9122-b4b95fa644a2"
      },
      "source": [
        "from keras import losses\n",
        "from keras import metrics\n",
        "model.compile(optimizer='rmsprop',\n",
        "              loss='binary_crossentropy',\n",
        "              metrics=['accuracy'])"
      ],
      "execution_count": 17,
      "outputs": [
        {
          "output_type": "execute_result",
          "data": {
            "text/plain": [
              "25000"
            ]
          },
          "metadata": {
            "tags": []
          },
          "execution_count": 17
        }
      ]
    },
    {
      "cell_type": "markdown",
      "metadata": {
        "id": "cVM4UmFrprhD",
        "colab_type": "text"
      },
      "source": [
        "**Validating your approach**\n",
        "\n",
        "In order to monitor during training the accuracy of the model on data it has never\n",
        "seen before, you’ll create a validation set by setting apart 10,000 samples from the\n",
        "original training data.(x_train as 25000 sample.)"
      ]
    },
    {
      "cell_type": "code",
      "metadata": {
        "id": "-p3ECQVAphMT",
        "colab_type": "code",
        "colab": {}
      },
      "source": [
        "x_val = x_train[:10000]\n",
        "partial_x_train = x_train[10000:]\n",
        "y_val = y_train[:10000]\n",
        "partial_y_train = y_train[10000:]"
      ],
      "execution_count": 0,
      "outputs": []
    },
    {
      "cell_type": "markdown",
      "metadata": {
        "id": "j_c8Cptfqpxs",
        "colab_type": "text"
      },
      "source": [
        "You’ll now train the model for 20 epochs (20 iterations over all samples in the\n",
        "x_train and y_train tensors), in mini-batches of 512 samples. At the same time,\n",
        "you’ll monitor loss and accuracy on the 10,000 samples that you set apart. You do so by\n",
        "passing the validation data as the validation_data argument."
      ]
    },
    {
      "cell_type": "code",
      "metadata": {
        "id": "Y2_H4rOdqMDL",
        "colab_type": "code",
        "colab": {}
      },
      "source": [
        "model.compile(optimizer='rmsprop',\n",
        "              loss='binary_crossentropy',\n",
        "              metrics=['acc'])\n",
        "history = model.fit(partial_x_train,\n",
        "                    partial_y_train,\n",
        "                    epochs=20,\n",
        "                    batch_size=512,\n",
        "                    validation_data=(x_val, y_val))"
      ],
      "execution_count": 0,
      "outputs": []
    },
    {
      "cell_type": "code",
      "metadata": {
        "id": "KH3VACHcqzKM",
        "colab_type": "code",
        "colab": {
          "base_uri": "https://localhost:8080/",
          "height": 295
        },
        "outputId": "9f7af406-58fe-4ef7-99cb-341f63c7c7f5"
      },
      "source": [
        "import matplotlib.pyplot as plt\n",
        "from keras import losses\n",
        "from keras import metrics\n",
        "history_dict = history.history\n",
        "loss_values = history_dict['loss']\n",
        "val_loss_values = history_dict['val_loss']\n",
        "acc_values = history_dict['acc']\n",
        "epochs = range(1, len(acc_values) + 1)\n",
        "plt.plot(epochs, loss_values, 'bo', label='Training loss')\n",
        "plt.plot(epochs, val_loss_values, 'b', label='Validation loss')\n",
        "plt.title('Training and validation loss')\n",
        "plt.xlabel('Epochs')\n",
        "plt.ylabel('Loss')\n",
        "plt.legend()\n",
        "plt.show()"
      ],
      "execution_count": 32,
      "outputs": [
        {
          "output_type": "display_data",
          "data": {
            "image/png": "[encoded data removed]",
            "text/plain": [
              "<Figure size 432x288 with 1 Axes>"
            ]
          },
          "metadata": {
            "tags": [],
            "needs_background": "light"
          }
        }
      ]
    },
    {
      "cell_type": "code",
      "metadata": {
        "id": "m_qSQWQyrEBT",
        "colab_type": "code",
        "colab": {
          "base_uri": "https://localhost:8080/",
          "height": 295
        },
        "outputId": "00da8746-3db0-4860-88ae-dd61ae5f07cf"
      },
      "source": [
        "plt.clf()\n",
        "acc_values = history_dict['acc']\n",
        "val_acc_values = history_dict['val_acc']\n",
        "plt.plot(epochs, acc_values, 'bo', label='Training acc')\n",
        "plt.plot(epochs, val_acc_values, 'b', label='Validation acc')\n",
        "plt.title('Training and validation accuracy')\n",
        "plt.xlabel('Epochs')\n",
        "plt.ylabel('Loss')\n",
        "plt.legend()\n",
        "plt.show()"
      ],
      "execution_count": 30,
      "outputs": [
        {
          "output_type": "display_data",
          "data": {
            "image/png": "[encoded data removed]",
            "text/plain": [
              "<Figure size 432x288 with 1 Axes>"
            ]
          },
          "metadata": {
            "tags": [],
            "needs_background": "light"
          }
        }
      ]
    },
    {
      "cell_type": "markdown",
      "metadata": {
        "id": "r7ODUj9atIS_",
        "colab_type": "text"
      },
      "source": [
        "The training loss decreases with every epoch, and the training accuracy\n",
        "increases with every epoch. That’s what you would expect when running gradientdescent optimization.\n",
        "\n",
        "**The quantity you’re trying to minimize should be less with\n",
        "every iteration.**\n",
        "\n",
        "But that isn’t the case for the validation loss and accuracy: they seem to\n",
        "peak at the fourth epoch.This is an example of what we warned against earlier: a\n",
        "model that performs better on the training data isn’t necessarily a model that will do\n",
        "better on data it has never seen before. In precise terms, what you’re seeing is ***overfitting***:\n",
        "\n",
        "after the second epoch, you’re overoptimizing on the training data, and you end\n",
        "up learning representations that are specific to the training data and don’t generalize\n",
        "to data outside of the training set."
      ]
    },
    {
      "cell_type": "markdown",
      "metadata": {
        "id": "iaW6et-2u48I",
        "colab_type": "text"
      },
      "source": [
        "After having trained a network, you’ll want to use it in a practical setting. You can generate the likelihood of reviews being positive by using the predict method:"
      ]
    },
    {
      "cell_type": "code",
      "metadata": {
        "id": "i_wwlleOr51T",
        "colab_type": "code",
        "colab": {}
      },
      "source": [
        "model.predict(x_test)"
      ],
      "execution_count": 0,
      "outputs": []
    },
    {
      "cell_type": "code",
      "metadata": {
        "id": "_VvDRT0gvBP3",
        "colab_type": "code",
        "colab": {}
      },
      "source": [
        "#test the model without pridiction:\n",
        "test_loss, test_acc = model.evaluate(x_test, y_test)\n",
        "print('test_acc:', test_acc)"
      ],
      "execution_count": 0,
      "outputs": []
    },
    {
      "cell_type": "markdown",
      "metadata": {
        "id": "GqzXQ079xzCN",
        "colab_type": "text"
      },
      "source": [
        "**Summery 1:**\n",
        "\n",
        "\n",
        "*   Stacks of Dense layers with relu activations can solve a wide range of problems\n",
        "(including sentiment classification)\n",
        "\n",
        "*   In a binary classification problem (two output classes), your network should\n",
        "end with a Dense layer with one unit and a sigmoid activation: the output of\n",
        "your network should be a scalar between 0 and 1, encoding a probability.\n",
        "*   With such a scalar sigmoid output on a binary classification problem, the loss\n",
        "function you should use is binary_crossentropy.\n",
        "\n",
        "\n",
        "*  The rmsprop optimizer is generally a good enough choice, whatever your problem. That’s one less thing for you to worry about.\n",
        "\n",
        "*   Be sure to always monitor performance on data that is outside of\n",
        "the training set.\n",
        "\n",
        "\n"
      ]
    }
  ]
}