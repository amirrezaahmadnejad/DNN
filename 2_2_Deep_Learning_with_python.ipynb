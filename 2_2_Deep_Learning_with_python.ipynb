{
  "nbformat": 4,
  "nbformat_minor": 0,
  "metadata": {
    "colab": {
      "name": "2.2-Deep Learning with python.ipynb",
      "provenance": [],
      "collapsed_sections": []
    },
    "kernelspec": {
      "name": "python3",
      "display_name": "Python 3"
    }
  },
  "cells": [
    {
      "cell_type": "markdown",
      "metadata": {
        "id": "tBYitVqm2Zn_",
        "colab_type": "text"
      },
      "source": [
        "#**2-Classifying newswires: a multiclass classification example**\n",
        "Network to classify Reuters newswires into 46 mutually\n",
        "exclusive topics. Because you have many classes, this problem is an instance of multiclass classification; and because each data point should be classified into only one category, the problem is more specifically an instance of single-label, multiclass classification.\n",
        "If each data point could belong to multiple categories (in this case, topics), you’d be\n",
        "facing a multilabel, multiclass classification problem.\n",
        "\n",
        "There\n",
        "are 46 different topics; some topics are more represented than others, but each topic\n",
        "has at least 10 examples in the training set.\n"
      ]
    },
    {
      "cell_type": "code",
      "metadata": {
        "id": "y5aNb1nZyx51",
        "colab_type": "code",
        "colab": {
          "base_uri": "https://localhost:8080/",
          "height": 68
        },
        "outputId": "8cde666c-d8b4-48d6-c7a8-2b9393f63b73"
      },
      "source": [
        "from keras.datasets import reuters\n",
        "(train_data, train_labels), (test_data, test_labels) = reuters.load_data(num_words=10000)"
      ],
      "execution_count": 1,
      "outputs": [
        {
          "output_type": "stream",
          "text": [
            "Using TensorFlow backend.\n"
          ],
          "name": "stderr"
        },
        {
          "output_type": "stream",
          "text": [
            "Downloading data from https://s3.amazonaws.com/text-datasets/reuters.npz\n",
            "2113536/2110848 [==============================] - 0s 0us/step\n"
          ],
          "name": "stdout"
        }
      ]
    },
    {
      "cell_type": "markdown",
      "metadata": {
        "id": "Osl24M6zFjEN",
        "colab_type": "text"
      },
      "source": [
        "You can vectorize the data with the exact same code as in the previous example.(IMDB)"
      ]
    },
    {
      "cell_type": "code",
      "metadata": {
        "id": "GIm5LqnKGevW",
        "colab_type": "code",
        "colab": {}
      },
      "source": [
        "import numpy as np\n",
        "def vectorize_sequences(sequences, dimension=10000):\n",
        "  results = np.zeros((len(sequences), dimension))\n",
        "  for i, sequence in enumerate(sequences):\n",
        "    results[i, sequence] = 1.\n",
        "  return results\n",
        "x_train = vectorize_sequences(train_data)\n",
        "x_test = vectorize_sequences(test_data)"
      ],
      "execution_count": 0,
      "outputs": []
    },
    {
      "cell_type": "markdown",
      "metadata": {
        "id": "4vphC-c0GtE-",
        "colab_type": "text"
      },
      "source": [
        "To vectorize the labels, there are two possibilities: you can cast the label list as an integer tensor, or you can use one-hot encoding. \n",
        "\n",
        "In this case, one-hot encoding of\n",
        "the labels consists of embedding each label as an all-zero vector with a 1 in the place of\n",
        "the label index. "
      ]
    },
    {
      "cell_type": "code",
      "metadata": {
        "id": "_lpCPbd9G3wj",
        "colab_type": "code",
        "colab": {}
      },
      "source": [
        "def to_one_hot(labels, dimension=46):\n",
        "  results = np.zeros((len(labels), dimension))\n",
        "  for i, label in enumerate(labels):\n",
        "    results[i, label] = 1.\n",
        "  return results\n",
        "one_hot_train_labels = to_one_hot(train_labels)\n",
        "one_hot_test_labels = to_one_hot(test_labels)"
      ],
      "execution_count": 0,
      "outputs": []
    },
    {
      "cell_type": "markdown",
      "metadata": {
        "id": "03LCUmrtHA4b",
        "colab_type": "text"
      },
      "source": [
        "In Keras we can encoding as in this easy way:\n",
        "\n",
        "\n",
        "```\n",
        "from keras.utils.np_utils import to_categorical\n",
        "one_hot_train_labels = to_categorical(train_labels)\n",
        "one_hot_test_labels = to_categorical(test_labels)\n",
        "```\n",
        "\n"
      ]
    },
    {
      "cell_type": "code",
      "metadata": {
        "id": "DiMx1OrfG5dl",
        "colab_type": "code",
        "colab": {}
      },
      "source": [
        "from keras.utils.np_utils import to_categorical\n",
        "one_hot_train_labels = to_categorical(train_labels)\n",
        "one_hot_test_labels = to_categorical(test_labels)"
      ],
      "execution_count": 0,
      "outputs": []
    },
    {
      "cell_type": "code",
      "metadata": {
        "id": "ThHlfe29HK-C",
        "colab_type": "code",
        "colab": {}
      },
      "source": [
        "from keras import models\n",
        "from keras import layers\n",
        "model = models.Sequential()\n",
        "model.add(layers.Dense(64, activation='relu', input_shape=(10000,)))\n",
        "model.add(layers.Dense(64, activation='relu'))\n",
        "model.add(layers.Dense(46, activation='softmax'))"
      ],
      "execution_count": 0,
      "outputs": []
    },
    {
      "cell_type": "markdown",
      "metadata": {
        "id": "zXFPXTyGH0F0",
        "colab_type": "text"
      },
      "source": [
        "\n",
        "\n",
        "*   The network with a Dense layer of size 46. This means for each input\n",
        "sample, the network will output a 46-dimensional vector. Each entry in this vector (each dimension) will encode a different output class.\n",
        "*   The last layer uses a softmax activation. It means the network will output a probability distribution over the 46 different output classes—for every input sample, the network will produce a 46-dimensional output vector, where output[i] is the probability that the sample belongs to class i. The 46 scores will sum to 1.\n",
        "\n",
        "The best loss function to use in this case is categorical_crossentropy. It measures\n",
        "the distance between two probability distributions: here, between the probability distribution output by the network and the true distribution of the labels. By minimizing\n",
        "the distance between these two distributions, you train the network to output something as close as possible to the true labels.\n",
        "\n"
      ]
    },
    {
      "cell_type": "code",
      "metadata": {
        "id": "30XD4RdoIRsx",
        "colab_type": "code",
        "colab": {}
      },
      "source": [
        "model.compile(optimizer='rmsprop',\n",
        "              loss='categorical_crossentropy',\n",
        "              metrics=['accuracy'])"
      ],
      "execution_count": 0,
      "outputs": []
    },
    {
      "cell_type": "code",
      "metadata": {
        "id": "OQNYmUwpIWRf",
        "colab_type": "code",
        "colab": {}
      },
      "source": [
        "x_val = x_train[:1000]\n",
        "partial_x_train = x_train[1000:]\n",
        "y_val = one_hot_train_labels[:1000]\n",
        "partial_y_train = one_hot_train_labels[1000:]"
      ],
      "execution_count": 0,
      "outputs": []
    },
    {
      "cell_type": "code",
      "metadata": {
        "id": "yKh85vJyIdTf",
        "colab_type": "code",
        "colab": {
          "base_uri": "https://localhost:8080/",
          "height": 714
        },
        "outputId": "2bc8cb5c-7ec5-41e9-ed2f-c020af63b540"
      },
      "source": [
        "history = model.fit(partial_x_train,\n",
        "                    partial_y_train,\n",
        "                    epochs=20,\n",
        "                    batch_size=512,\n",
        "                    validation_data=(x_val, y_val))"
      ],
      "execution_count": 10,
      "outputs": [
        {
          "output_type": "stream",
          "text": [
            "Train on 7982 samples, validate on 1000 samples\n",
            "Epoch 1/20\n",
            "7982/7982 [==============================] - 1s 153us/step - loss: 2.4842 - accuracy: 0.5337 - val_loss: 1.6560 - val_accuracy: 0.6560\n",
            "Epoch 2/20\n",
            "7982/7982 [==============================] - 1s 113us/step - loss: 1.3562 - accuracy: 0.7145 - val_loss: 1.2777 - val_accuracy: 0.7230\n",
            "Epoch 3/20\n",
            "7982/7982 [==============================] - 1s 115us/step - loss: 1.0219 - accuracy: 0.7788 - val_loss: 1.1190 - val_accuracy: 0.7620\n",
            "Epoch 4/20\n",
            "7982/7982 [==============================] - 1s 112us/step - loss: 0.8012 - accuracy: 0.8282 - val_loss: 1.0609 - val_accuracy: 0.7520\n",
            "Epoch 5/20\n",
            "7982/7982 [==============================] - 1s 115us/step - loss: 0.6425 - accuracy: 0.8639 - val_loss: 0.9382 - val_accuracy: 0.7980\n",
            "Epoch 6/20\n",
            "7982/7982 [==============================] - 1s 112us/step - loss: 0.5133 - accuracy: 0.8915 - val_loss: 0.9059 - val_accuracy: 0.8170\n",
            "Epoch 7/20\n",
            "7982/7982 [==============================] - 1s 113us/step - loss: 0.4145 - accuracy: 0.9143 - val_loss: 0.8873 - val_accuracy: 0.8150\n",
            "Epoch 8/20\n",
            "7982/7982 [==============================] - 1s 112us/step - loss: 0.3394 - accuracy: 0.9295 - val_loss: 0.8718 - val_accuracy: 0.8150\n",
            "Epoch 9/20\n",
            "7982/7982 [==============================] - 1s 116us/step - loss: 0.2749 - accuracy: 0.9402 - val_loss: 0.9100 - val_accuracy: 0.8120\n",
            "Epoch 10/20\n",
            "7982/7982 [==============================] - 1s 113us/step - loss: 0.2354 - accuracy: 0.9470 - val_loss: 0.9426 - val_accuracy: 0.8030\n",
            "Epoch 11/20\n",
            "7982/7982 [==============================] - 1s 114us/step - loss: 0.2058 - accuracy: 0.9486 - val_loss: 0.9018 - val_accuracy: 0.8130\n",
            "Epoch 12/20\n",
            "7982/7982 [==============================] - 1s 114us/step - loss: 0.1852 - accuracy: 0.9503 - val_loss: 0.9046 - val_accuracy: 0.8210\n",
            "Epoch 13/20\n",
            "7982/7982 [==============================] - 1s 113us/step - loss: 0.1625 - accuracy: 0.9529 - val_loss: 0.9297 - val_accuracy: 0.8160\n",
            "Epoch 14/20\n",
            "7982/7982 [==============================] - 1s 114us/step - loss: 0.1474 - accuracy: 0.9553 - val_loss: 1.0166 - val_accuracy: 0.7970\n",
            "Epoch 15/20\n",
            "7982/7982 [==============================] - 1s 118us/step - loss: 0.1410 - accuracy: 0.9553 - val_loss: 1.0002 - val_accuracy: 0.8070\n",
            "Epoch 16/20\n",
            "7982/7982 [==============================] - 1s 114us/step - loss: 0.1301 - accuracy: 0.9563 - val_loss: 0.9844 - val_accuracy: 0.8120\n",
            "Epoch 17/20\n",
            "7982/7982 [==============================] - 1s 115us/step - loss: 0.1285 - accuracy: 0.9546 - val_loss: 1.0302 - val_accuracy: 0.8110\n",
            "Epoch 18/20\n",
            "7982/7982 [==============================] - 1s 115us/step - loss: 0.1189 - accuracy: 0.9584 - val_loss: 1.0219 - val_accuracy: 0.8130\n",
            "Epoch 19/20\n",
            "7982/7982 [==============================] - 1s 115us/step - loss: 0.1154 - accuracy: 0.9572 - val_loss: 1.0680 - val_accuracy: 0.8010\n",
            "Epoch 20/20\n",
            "7982/7982 [==============================] - 1s 114us/step - loss: 0.1143 - accuracy: 0.9563 - val_loss: 1.1293 - val_accuracy: 0.7930\n"
          ],
          "name": "stdout"
        }
      ]
    },
    {
      "cell_type": "code",
      "metadata": {
        "id": "9YxxXcMsIis5",
        "colab_type": "code",
        "colab": {
          "base_uri": "https://localhost:8080/",
          "height": 295
        },
        "outputId": "e5b7b173-26f5-44b1-8ef8-38ae1b043057"
      },
      "source": [
        "import matplotlib.pyplot as plt\n",
        "loss = history.history['loss']\n",
        "val_loss = history.history['val_loss']\n",
        "epochs = range(1, len(loss) + 1)\n",
        "plt.plot(epochs, loss, 'bo', label='Training loss')\n",
        "plt.plot(epochs, val_loss, 'b', label='Validation loss')\n",
        "plt.title('Training and validation loss')\n",
        "plt.xlabel('Epochs')\n",
        "plt.ylabel('Loss')\n",
        "plt.legend()\n",
        "plt.show()"
      ],
      "execution_count": 11,
      "outputs": [
        {
          "output_type": "display_data",
          "data": {
            "image/png": "[encoded data removed]",
            "text/plain": [
              "<Figure size 432x288 with 1 Axes>"
            ]
          },
          "metadata": {
            "tags": [],
            "needs_background": "light"
          }
        }
      ]
    },
    {
      "cell_type": "code",
      "metadata": {
        "id": "strsrRLfIrIH",
        "colab_type": "code",
        "colab": {
          "base_uri": "https://localhost:8080/",
          "height": 295
        },
        "outputId": "cdd52b8d-1a04-4872-df57-c06e3b4694da"
      },
      "source": [
        "plt.clf()\n",
        "acc = history.history['accuracy']\n",
        "val_acc = history.history['val_accuracy']\n",
        "plt.plot(epochs, acc, 'bo', label='Training acc')\n",
        "plt.plot(epochs, val_acc, 'b', label='Validation acc')\n",
        "plt.title('Training and validation accuracy')\n",
        "plt.xlabel('Epochs')\n",
        "plt.ylabel('Loss')\n",
        "plt.legend()\n",
        "plt.show()"
      ],
      "execution_count": 16,
      "outputs": [
        {
          "output_type": "display_data",
          "data": {
            "image/png": "[encoded data removed]",
            "text/plain": [
              "<Figure size 432x288 with 1 Axes>"
            ]
          },
          "metadata": {
            "tags": [],
            "needs_background": "light"
          }
        }
      ]
    },
    {
      "cell_type": "markdown",
      "metadata": {
        "id": "6y-G240OKKW-",
        "colab_type": "text"
      },
      "source": [
        "The importance of having sufficiently large intermediate layers:\n",
        "\n",
        "We mentioned earlier that because the final outputs are 46-dimensional, you should\n",
        "avoid intermediate layers with many fewer than 46 hidden units. Now let’s see what\n",
        "happens when you introduce an information bottleneck by having intermediate layers\n",
        "that are significantly less than 46-dimensional: for example, 4-dimensional."
      ]
    },
    {
      "cell_type": "code",
      "metadata": {
        "id": "i8oovNEUJCQM",
        "colab_type": "code",
        "colab": {
          "base_uri": "https://localhost:8080/",
          "height": 731
        },
        "outputId": "6bbdf6dd-7913-4ef3-9fcf-26d5d2c3d2f6"
      },
      "source": [
        "model = models.Sequential()\n",
        "model.add(layers.Dense(64, activation='relu', input_shape=(10000,)))\n",
        "model.add(layers.Dense(4, activation='relu'))\n",
        "model.add(layers.Dense(46, activation='softmax'))\n",
        "model.compile(optimizer='rmsprop',\n",
        "              loss='categorical_crossentropy',\n",
        "              metrics=['accuracy'])\n",
        "model.fit(partial_x_train,\n",
        "partial_y_train,\n",
        "epochs=20,\n",
        "batch_size=128,\n",
        "validation_data=(x_val, y_val))"
      ],
      "execution_count": 17,
      "outputs": [
        {
          "output_type": "stream",
          "text": [
            "Train on 7982 samples, validate on 1000 samples\n",
            "Epoch 1/20\n",
            "7982/7982 [==============================] - 1s 179us/step - loss: 3.3779 - accuracy: 0.1367 - val_loss: 2.8441 - val_accuracy: 0.2470\n",
            "Epoch 2/20\n",
            "7982/7982 [==============================] - 1s 164us/step - loss: 2.4530 - accuracy: 0.2730 - val_loss: 2.0764 - val_accuracy: 0.3140\n",
            "Epoch 3/20\n",
            "7982/7982 [==============================] - 1s 165us/step - loss: 1.7499 - accuracy: 0.4509 - val_loss: 1.6751 - val_accuracy: 0.5150\n",
            "Epoch 4/20\n",
            "7982/7982 [==============================] - 1s 167us/step - loss: 1.4243 - accuracy: 0.5982 - val_loss: 1.4714 - val_accuracy: 0.6750\n",
            "Epoch 5/20\n",
            "7982/7982 [==============================] - 1s 168us/step - loss: 1.1775 - accuracy: 0.7106 - val_loss: 1.3539 - val_accuracy: 0.6930\n",
            "Epoch 6/20\n",
            "7982/7982 [==============================] - 1s 168us/step - loss: 1.0229 - accuracy: 0.7469 - val_loss: 1.3091 - val_accuracy: 0.7080\n",
            "Epoch 7/20\n",
            "7982/7982 [==============================] - 1s 166us/step - loss: 0.9177 - accuracy: 0.7744 - val_loss: 1.2970 - val_accuracy: 0.7170\n",
            "Epoch 8/20\n",
            "7982/7982 [==============================] - 1s 156us/step - loss: 0.8333 - accuracy: 0.7924 - val_loss: 1.3194 - val_accuracy: 0.7270\n",
            "Epoch 9/20\n",
            "7982/7982 [==============================] - 1s 153us/step - loss: 0.7651 - accuracy: 0.8042 - val_loss: 1.3220 - val_accuracy: 0.7230\n",
            "Epoch 10/20\n",
            "7982/7982 [==============================] - 1s 153us/step - loss: 0.7083 - accuracy: 0.8182 - val_loss: 1.3423 - val_accuracy: 0.7240\n",
            "Epoch 11/20\n",
            "7982/7982 [==============================] - 1s 164us/step - loss: 0.6582 - accuracy: 0.8277 - val_loss: 1.3859 - val_accuracy: 0.7220\n",
            "Epoch 12/20\n",
            "7982/7982 [==============================] - 1s 160us/step - loss: 0.6162 - accuracy: 0.8386 - val_loss: 1.4163 - val_accuracy: 0.7200\n",
            "Epoch 13/20\n",
            "7982/7982 [==============================] - 1s 155us/step - loss: 0.5785 - accuracy: 0.8463 - val_loss: 1.4360 - val_accuracy: 0.7240\n",
            "Epoch 14/20\n",
            "7982/7982 [==============================] - 1s 156us/step - loss: 0.5482 - accuracy: 0.8512 - val_loss: 1.4903 - val_accuracy: 0.7260\n",
            "Epoch 15/20\n",
            "7982/7982 [==============================] - 1s 156us/step - loss: 0.5209 - accuracy: 0.8591 - val_loss: 1.5333 - val_accuracy: 0.7210\n",
            "Epoch 16/20\n",
            "7982/7982 [==============================] - 1s 158us/step - loss: 0.4977 - accuracy: 0.8658 - val_loss: 1.5717 - val_accuracy: 0.7180\n",
            "Epoch 17/20\n",
            "7982/7982 [==============================] - 1s 157us/step - loss: 0.4755 - accuracy: 0.8698 - val_loss: 1.6378 - val_accuracy: 0.7200\n",
            "Epoch 18/20\n",
            "7982/7982 [==============================] - 1s 159us/step - loss: 0.4560 - accuracy: 0.8747 - val_loss: 1.6799 - val_accuracy: 0.7280\n",
            "Epoch 19/20\n",
            "7982/7982 [==============================] - 1s 157us/step - loss: 0.4381 - accuracy: 0.8782 - val_loss: 1.8078 - val_accuracy: 0.7200\n",
            "Epoch 20/20\n",
            "7982/7982 [==============================] - 1s 164us/step - loss: 0.4210 - accuracy: 0.8802 - val_loss: 1.7996 - val_accuracy: 0.7150\n"
          ],
          "name": "stdout"
        },
        {
          "output_type": "execute_result",
          "data": {
            "text/plain": [
              "<keras.callbacks.callbacks.History at 0x7f14df2f5390>"
            ]
          },
          "metadata": {
            "tags": []
          },
          "execution_count": 17
        }
      ]
    },
    {
      "cell_type": "markdown",
      "metadata": {
        "id": "d7vRfgt_KiOo",
        "colab_type": "text"
      },
      "source": [
        "The network now peaks at ~71% validation accuracy, an 8% absolute drop. This drop\n",
        "is mostly due to the fact that you’re trying to compress a lot of information (enough\n",
        "information to recover the separation hyperplanes of 46 classes) into an intermediate\n",
        "space that is too low-dimensional. The network is able to cram most of the necessary\n",
        "information into these eight-dimensional representations, but not all of it."
      ]
    },
    {
      "cell_type": "markdown",
      "metadata": {
        "id": "E_OBIbyVKoA0",
        "colab_type": "text"
      },
      "source": [
        "**Summery2:**\n",
        "\n",
        "\n",
        "*    If you’re trying to classify data points among N classes, your network should end\n",
        "with a Dense layer of size N.\n",
        "\n",
        "*   In a single-label, multiclass classification problem, your network should end\n",
        "with a softmax activation so that it will output a probability distribution over the\n",
        "N output classes.\n",
        "*   There are two ways to handle labels in multiclass classification:\n",
        "\n",
        "  *   Encoding the labels via categorical encoding (also known as one-hot encoding) and using\n",
        "  *   Encoding the labels via categorical encoding (also known as one-hot encoding) and using\n",
        "\n",
        "*   If you need to classify data into a large number of categories, you should avoid\n",
        "creating information bottlenecks in your network due to intermediate layers\n",
        "that are too small.\n",
        "\n"
      ]
    }
  ]
}